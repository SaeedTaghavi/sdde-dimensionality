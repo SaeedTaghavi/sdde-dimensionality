{
 "cells": [
  {
   "cell_type": "markdown",
   "metadata": {},
   "source": [
    "# Comparison of Theano compiled and pure Numpy models"
   ]
  },
  {
   "cell_type": "code",
   "execution_count": 1,
   "metadata": {},
   "outputs": [
    {
     "name": "stderr",
     "output_type": "stream",
     "text": [
      "[monochrome_palette]: value was greater than 1 and was clipped.\n"
     ]
    },
    {
     "name": "stdout",
     "output_type": "stream",
     "text": [
      "\n",
      "import os\n",
      "import builtins\n",
      "from collections import OrderedDict, namedtuple, deque\n",
      "import logging\n",
      "from multiprocessing import Pool\n",
      "from zipfile import BadZipFile  # For detecting corrupt files\n",
      "import numpy as np\n",
      "from functools import lru_cache, partial\n",
      "from scipy.special import lambertw\n",
      "import matplotlib as mpl\n",
      "import matplotlib.pyplot as plt\n",
      "from mpl_toolkits.axes_grid1.inset_locator import inset_axes\n",
      "\n",
      "import theano\n",
      "from tqdm import tqdm_notebook as tqdm\n",
      "from parameters import ParameterSet\n",
      "\n",
      "import theano_shim as shim\n",
      "import mackelab as ml\n",
      "import mackelab.iotools\n",
      "import sinn\n",
      "from sinn.histories import Series\n",
      "import sinn.analyze as anlz\n",
      "import sinn.models\n",
      "\n",
      "logger = logging.getLogger(\"linearized_tanh\")\n",
      "\n",
      "plt.style.use('publish')\n",
      "#plt.style.use('dark_background')\n",
      "#plt.style.use('default')\n",
      "plt.rcParams['figure.facecolor'] = (1,1,1,1)\n",
      "# Use pgf when exporting pdf\n",
      "from matplotlib.backends.backend_pgf import FigureCanvasPgf\n",
      "mpl.backend_bases.register_backend('pdf', FigureCanvasPgf)\n",
      "\n"
     ]
    }
   ],
   "source": [
    "from init import *\n",
    "%matplotlib inline"
   ]
  },
  {
   "cell_type": "code",
   "execution_count": 3,
   "metadata": {},
   "outputs": [],
   "source": [
    "from models import TanhModel, LinearModel"
   ]
  },
  {
   "cell_type": "code",
   "execution_count": 4,
   "metadata": {},
   "outputs": [
    {
     "data": {
      "image/png": "[encoded data removed]",
      "text/plain": [
       "<matplotlib.figure.Figure at 0x7f9a6e01c630>"
      ]
     },
     "metadata": {},
     "output_type": "display_data"
    }
   ],
   "source": [
    "α = -1.; β = 1.;\n",
    "plt.figure(figsize=(3,2));\n",
    "xarr = np.linspace(-6*β, 6*β); yarr = TanhModel.F(xarr, α, β); plt.plot(xarr, yarr);\n",
    "xarr = np.linspace(-β, β); yarr = LinearModel.F(xarr, α, β); plt.plot(xarr, yarr);\n",
    "plt.xlabel('x'); plt.ylabel('F(x)');\n",
    "del α, β"
   ]
  },
  {
   "cell_type": "code",
   "execution_count": 6,
   "metadata": {},
   "outputs": [],
   "source": [
    "ModelParams = namedtuple('ModelParams', ['q', 'Δ', 'α', 'β'])\n",
    "params = ModelParams(α=-1, β=1, Δ=1, q=1)"
   ]
  },
  {
   "cell_type": "markdown",
   "metadata": {},
   "source": [
    "## Numpy function"
   ]
  },
  {
   "cell_type": "code",
   "execution_count": 6,
   "metadata": {},
   "outputs": [],
   "source": [
    "shim.load(load_theano=False)"
   ]
  },
  {
   "cell_type": "code",
   "execution_count": 7,
   "metadata": {},
   "outputs": [],
   "source": [
    "rndstream = shim.cf.RandomStreams(0)"
   ]
  },
  {
   "cell_type": "code",
   "execution_count": 8,
   "metadata": {},
   "outputs": [],
   "source": [
    "npmodel = TanhModel(params, 'x_np', random_stream=rndstream)"
   ]
  },
  {
   "cell_type": "code",
   "execution_count": 9,
   "metadata": {},
   "outputs": [],
   "source": [
    "npmodel.x.pad(npmodel.params.Δ.get_value())\n",
    "npmodel.x[:npmodel.x.t0idx] = 1"
   ]
  },
  {
   "cell_type": "markdown",
   "metadata": {},
   "source": [
    "Execution time"
   ]
  },
  {
   "cell_type": "code",
   "execution_count": 10,
   "metadata": {},
   "outputs": [
    {
     "name": "stdout",
     "output_type": "stream",
     "text": [
      "CPU times: user 4.46 s, sys: 106 ms, total: 4.56 s\n",
      "Wall time: 4.26 s\n"
     ]
    }
   ],
   "source": [
    "%%time\n",
    "npmodel.advance('end')"
   ]
  },
  {
   "cell_type": "code",
   "execution_count": 11,
   "metadata": {},
   "outputs": [
    {
     "data": {
      "image/png": "[encoded data removed]",
      "text/plain": [
       "<matplotlib.figure.Figure at 0x7f4b53be2588>"
      ]
     },
     "metadata": {},
     "output_type": "display_data"
    }
   ],
   "source": [
    "plt.plot(npmodel.x.time, npmodel.x.trace);\n",
    "plt.xlabel('$t$'); plt.ylabel(\"$x_0(t)$\");"
   ]
  },
  {
   "cell_type": "markdown",
   "metadata": {},
   "source": [
    "## Compiled function"
   ]
  },
  {
   "cell_type": "code",
   "execution_count": 12,
   "metadata": {},
   "outputs": [],
   "source": [
    "theano.config.compute_test_value = 'raise'"
   ]
  },
  {
   "cell_type": "code",
   "execution_count": 13,
   "metadata": {},
   "outputs": [],
   "source": [
    "shim.load(load_theano=True)"
   ]
  },
  {
   "cell_type": "code",
   "execution_count": 14,
   "metadata": {},
   "outputs": [],
   "source": [
    "rndstream = shim.cf.RandomStreams(0)"
   ]
  },
  {
   "cell_type": "code",
   "execution_count": 15,
   "metadata": {},
   "outputs": [],
   "source": [
    "tmodel = TanhModel(params, 'x_theano', random_stream=rndstream)"
   ]
  },
  {
   "cell_type": "code",
   "execution_count": 16,
   "metadata": {},
   "outputs": [],
   "source": [
    "tmodel.x.pad(tmodel.params.Δ.get_value())\n",
    "tmodel.x[:tmodel.x.t0idx] = 1"
   ]
  },
  {
   "cell_type": "markdown",
   "metadata": {},
   "source": [
    "Execution time of first run (involves compilation)"
   ]
  },
  {
   "cell_type": "code",
   "execution_count": 17,
   "metadata": {},
   "outputs": [
    {
     "name": "stdout",
     "output_type": "stream",
     "text": [
      "CPU times: user 1.08 s, sys: 170 ms, total: 1.25 s\n",
      "Wall time: 7.32 s\n"
     ]
    }
   ],
   "source": [
    "%%time\n",
    "tmodel.advance('end')\n",
    "#tmodel.advance(1001)"
   ]
  },
  {
   "cell_type": "markdown",
   "metadata": {},
   "source": [
    "Subsequent runs are 10x faster than with NumPy"
   ]
  },
  {
   "cell_type": "code",
   "execution_count": 18,
   "metadata": {},
   "outputs": [
    {
     "name": "stdout",
     "output_type": "stream",
     "text": [
      "CPU times: user 94 µs, sys: 0 ns, total: 94 µs\n",
      "Wall time: 98 µs\n"
     ]
    }
   ],
   "source": [
    "%%time\n",
    "tmodel.advance('end')\n",
    "#tmodel.advance(1001)"
   ]
  },
  {
   "cell_type": "code",
   "execution_count": 19,
   "metadata": {},
   "outputs": [
    {
     "data": {
      "image/png": "[encoded data removed]",
      "text/plain": [
       "<matplotlib.figure.Figure at 0x7f4b53bf7940>"
      ]
     },
     "metadata": {},
     "output_type": "display_data"
    }
   ],
   "source": [
    "plt.plot(tmodel.x.time, tmodel.x.trace);\n",
    "plt.xlabel('$t$'); plt.ylabel(\"$x_0(t)$\");"
   ]
  }
 ],
 "metadata": {
  "kernelspec": {
   "display_name": "Python (mackelab-run)",
   "language": "python",
   "name": "ml-run"
  },
  "language_info": {
   "codemirror_mode": {
    "name": "ipython",
    "version": 3
   },
   "file_extension": ".py",
   "mimetype": "text/x-python",
   "name": "python",
   "nbconvert_exporter": "python",
   "pygments_lexer": "ipython3",
   "version": "3.5.2"
  }
 },
 "nbformat": 4,
 "nbformat_minor": 2
}
